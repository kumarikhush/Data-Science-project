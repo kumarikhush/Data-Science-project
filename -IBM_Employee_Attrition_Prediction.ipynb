{
 "cells": [
  {
   "cell_type": "markdown",
   "id": "9976530e",
   "metadata": {},
   "source": [
    "# Analysis Task:\n",
    "- Import attrition dataset and import libraries such as pandas, matplotlib.pyplot, numpy, and seaborn.\n",
    "- Exploratory data analysis\n",
    "\n",
    "Find the age distribution of employees in IBM\n",
    "\n",
    "Explore attrition by age\n",
    "\n",
    "Explore data for Left employees\n",
    "\n",
    "Find out the distribution of employees by the education field\n",
    "\n",
    "Give a bar chart for the number of married and unmarried employees\n",
    "- Build up a logistic regression model to predict which employees are likely to attrite."
   ]
  },
  {
   "cell_type": "markdown",
   "id": "f3a832b3",
   "metadata": {},
   "source": [
    "# Importing the Relevant libaries"
   ]
  },
  {
   "cell_type": "code",
   "execution_count": 1,
   "id": "31aa8b4d",
   "metadata": {},
   "outputs": [],
   "source": [
    "import matplotlib.pyplot as plt\n",
    "import pandas as pd\n",
    "import numpy as np\n",
    "import seaborn as sns\n",
    "import sklearn\n",
    "from sklearn.linear_model import LogisticRegression\n",
    "from sklearn.metrics import confusion_matrix, classification_report\n",
    "from sklearn.preprocessing import StandardScaler, LabelEncoder\n",
    "from sklearn.model_selection import train_test_split\n",
    "%matplotlib inline\n",
    "import warnings\n",
    "warnings.filterwarnings('always')\n",
    "warnings.filterwarnings('ignore')"
   ]
  },
  {
   "cell_type": "markdown",
   "id": "68ac54a5",
   "metadata": {},
   "source": [
    "# Exploratory data analysis"
   ]
  },
  {
   "cell_type": "code",
   "execution_count": 2,
   "id": "1d173075",
   "metadata": {},
   "outputs": [],
   "source": [
    "#loading dataset\n",
    "df = pd.read_csv(\"C:\\\\Users\\\\khush\\\\OneDrive\\\\Documents\\\\Data Science\\\\1576148666_ibmattritiondata\\\\IBM Attrition Data.csv\")"
   ]
  },
  {
   "cell_type": "code",
   "execution_count": 3,
   "id": "7d176aa1",
   "metadata": {},
   "outputs": [
    {
     "data": {
      "text/html": [
       "<div>\n",
       "<style scoped>\n",
       "    .dataframe tbody tr th:only-of-type {\n",
       "        vertical-align: middle;\n",
       "    }\n",
       "\n",
       "    .dataframe tbody tr th {\n",
       "        vertical-align: top;\n",
       "    }\n",
       "\n",
       "    .dataframe thead th {\n",
       "        text-align: right;\n",
       "    }\n",
       "</style>\n",
       "<table border=\"1\" class=\"dataframe\">\n",
       "  <thead>\n",
       "    <tr style=\"text-align: right;\">\n",
       "      <th></th>\n",
       "      <th>Age</th>\n",
       "      <th>Attrition</th>\n",
       "      <th>Department</th>\n",
       "      <th>DistanceFromHome</th>\n",
       "      <th>Education</th>\n",
       "      <th>EducationField</th>\n",
       "      <th>EnvironmentSatisfaction</th>\n",
       "      <th>JobSatisfaction</th>\n",
       "      <th>MaritalStatus</th>\n",
       "      <th>MonthlyIncome</th>\n",
       "      <th>NumCompaniesWorked</th>\n",
       "      <th>WorkLifeBalance</th>\n",
       "      <th>YearsAtCompany</th>\n",
       "    </tr>\n",
       "  </thead>\n",
       "  <tbody>\n",
       "    <tr>\n",
       "      <th>0</th>\n",
       "      <td>41</td>\n",
       "      <td>Yes</td>\n",
       "      <td>Sales</td>\n",
       "      <td>1</td>\n",
       "      <td>2</td>\n",
       "      <td>Life Sciences</td>\n",
       "      <td>2</td>\n",
       "      <td>4</td>\n",
       "      <td>Single</td>\n",
       "      <td>5993</td>\n",
       "      <td>8</td>\n",
       "      <td>1</td>\n",
       "      <td>6</td>\n",
       "    </tr>\n",
       "    <tr>\n",
       "      <th>1</th>\n",
       "      <td>49</td>\n",
       "      <td>No</td>\n",
       "      <td>Research &amp; Development</td>\n",
       "      <td>8</td>\n",
       "      <td>1</td>\n",
       "      <td>Life Sciences</td>\n",
       "      <td>3</td>\n",
       "      <td>2</td>\n",
       "      <td>Married</td>\n",
       "      <td>5130</td>\n",
       "      <td>1</td>\n",
       "      <td>3</td>\n",
       "      <td>10</td>\n",
       "    </tr>\n",
       "    <tr>\n",
       "      <th>2</th>\n",
       "      <td>37</td>\n",
       "      <td>Yes</td>\n",
       "      <td>Research &amp; Development</td>\n",
       "      <td>2</td>\n",
       "      <td>2</td>\n",
       "      <td>Other</td>\n",
       "      <td>4</td>\n",
       "      <td>3</td>\n",
       "      <td>Single</td>\n",
       "      <td>2090</td>\n",
       "      <td>6</td>\n",
       "      <td>3</td>\n",
       "      <td>0</td>\n",
       "    </tr>\n",
       "    <tr>\n",
       "      <th>3</th>\n",
       "      <td>33</td>\n",
       "      <td>No</td>\n",
       "      <td>Research &amp; Development</td>\n",
       "      <td>3</td>\n",
       "      <td>4</td>\n",
       "      <td>Life Sciences</td>\n",
       "      <td>4</td>\n",
       "      <td>3</td>\n",
       "      <td>Married</td>\n",
       "      <td>2909</td>\n",
       "      <td>1</td>\n",
       "      <td>3</td>\n",
       "      <td>8</td>\n",
       "    </tr>\n",
       "    <tr>\n",
       "      <th>4</th>\n",
       "      <td>27</td>\n",
       "      <td>No</td>\n",
       "      <td>Research &amp; Development</td>\n",
       "      <td>2</td>\n",
       "      <td>1</td>\n",
       "      <td>Medical</td>\n",
       "      <td>1</td>\n",
       "      <td>2</td>\n",
       "      <td>Married</td>\n",
       "      <td>3468</td>\n",
       "      <td>9</td>\n",
       "      <td>3</td>\n",
       "      <td>2</td>\n",
       "    </tr>\n",
       "  </tbody>\n",
       "</table>\n",
       "</div>"
      ],
      "text/plain": [
       "   Age Attrition              Department  DistanceFromHome  Education  \\\n",
       "0   41       Yes                   Sales                 1          2   \n",
       "1   49        No  Research & Development                 8          1   \n",
       "2   37       Yes  Research & Development                 2          2   \n",
       "3   33        No  Research & Development                 3          4   \n",
       "4   27        No  Research & Development                 2          1   \n",
       "\n",
       "  EducationField  EnvironmentSatisfaction  JobSatisfaction MaritalStatus  \\\n",
       "0  Life Sciences                        2                4        Single   \n",
       "1  Life Sciences                        3                2       Married   \n",
       "2          Other                        4                3        Single   \n",
       "3  Life Sciences                        4                3       Married   \n",
       "4        Medical                        1                2       Married   \n",
       "\n",
       "   MonthlyIncome  NumCompaniesWorked  WorkLifeBalance  YearsAtCompany  \n",
       "0           5993                   8                1               6  \n",
       "1           5130                   1                3              10  \n",
       "2           2090                   6                3               0  \n",
       "3           2909                   1                3               8  \n",
       "4           3468                   9                3               2  "
      ]
     },
     "execution_count": 3,
     "metadata": {},
     "output_type": "execute_result"
    }
   ],
   "source": [
    "df.head()"
   ]
  },
  {
   "cell_type": "code",
   "execution_count": 4,
   "id": "e89daf36",
   "metadata": {},
   "outputs": [
    {
     "data": {
      "text/plain": [
       "array(['Age', 'Attrition', 'Department', 'DistanceFromHome', 'Education',\n",
       "       'EducationField', 'EnvironmentSatisfaction', 'JobSatisfaction',\n",
       "       'MaritalStatus', 'MonthlyIncome', 'NumCompaniesWorked',\n",
       "       'WorkLifeBalance', 'YearsAtCompany'], dtype=object)"
      ]
     },
     "execution_count": 4,
     "metadata": {},
     "output_type": "execute_result"
    }
   ],
   "source": [
    "df.columns.values"
   ]
  },
  {
   "cell_type": "code",
   "execution_count": 5,
   "id": "c06110d7",
   "metadata": {},
   "outputs": [
    {
     "data": {
      "image/png": "[encoded data removed]",
      "text/plain": [
       "<Figure size 720x576 with 1 Axes>"
      ]
     },
     "metadata": {
      "needs_background": "light"
     },
     "output_type": "display_data"
    }
   ],
   "source": [
    "# Histogram for age distribution\n",
    "plt.figure(figsize=(10,8))\n",
    "df['Age'].hist(bins=70)\n",
    "plt.title(\"Age distribution of employee\")\n",
    "plt.xlabel(\"Age\")\n",
    "plt.ylabel(\"Employee\")\n",
    "plt.show()"
   ]
  },
  {
   "cell_type": "code",
   "execution_count": 6,
   "id": "1eb5f388",
   "metadata": {},
   "outputs": [
    {
     "data": {
      "image/png": "[encoded data removed]",
      "text/plain": [
       "<Figure size 720x576 with 1 Axes>"
      ]
     },
     "metadata": {
      "needs_background": "light"
     },
     "output_type": "display_data"
    }
   ],
   "source": [
    "# Explore the dataset for attrition by age\n",
    "plt.figure(figsize=(10,8))\n",
    "plt.scatter(df.Attrition, df.Age, alpha=.55)\n",
    "plt.title(\"Attrition by age\")\n",
    "plt.ylabel(\"Age\")\n",
    "plt.grid(b=True, which='major',axis='y')\n",
    "plt.show()"
   ]
  },
  {
   "cell_type": "code",
   "execution_count": 7,
   "id": "91ee5068",
   "metadata": {},
   "outputs": [
    {
     "data": {
      "image/png": "[encoded data removed]",
      "text/plain": [
       "<Figure size 720x576 with 1 Axes>"
      ]
     },
     "metadata": {
      "needs_background": "light"
     },
     "output_type": "display_data"
    }
   ],
   "source": [
    "# Explore data for left employee\n",
    "plt.figure(figsize=(10,8))\n",
    "df.Attrition.value_counts().plot(kind='barh',color='blue',alpha=.65)\n",
    "plt.title(\"Data for left employee\")\n",
    "plt.show()"
   ]
  },
  {
   "cell_type": "code",
   "execution_count": 8,
   "id": "40e60682",
   "metadata": {},
   "outputs": [
    {
     "data": {
      "image/png": "[encoded data removed]",
      "text/plain": [
       "<Figure size 720x576 with 1 Axes>"
      ]
     },
     "metadata": {
      "needs_background": "light"
     },
     "output_type": "display_data"
    }
   ],
   "source": [
    "# Explore data for education field distribution\n",
    "plt.figure(figsize=(10,8))\n",
    "df.EducationField.value_counts().plot(kind='barh',color='green',alpha=.65)\n",
    "plt.title(\"Education field distribution\")\n",
    "plt.show()"
   ]
  },
  {
   "cell_type": "code",
   "execution_count": 9,
   "id": "484dc005",
   "metadata": {},
   "outputs": [
    {
     "data": {
      "image/png": "[encoded data removed]",
      "text/plain": [
       "<Figure size 720x576 with 1 Axes>"
      ]
     },
     "metadata": {
      "needs_background": "light"
     },
     "output_type": "display_data"
    }
   ],
   "source": [
    "#Explore data for martial status\n",
    "plt.figure(figsize=(10,8))\n",
    "df.MaritalStatus.value_counts().plot(kind='bar',alpha=.5)\n",
    "plt.show()"
   ]
  },
  {
   "cell_type": "code",
   "execution_count": 10,
   "id": "85d22751",
   "metadata": {},
   "outputs": [
    {
     "data": {
      "text/html": [
       "<div>\n",
       "<style scoped>\n",
       "    .dataframe tbody tr th:only-of-type {\n",
       "        vertical-align: middle;\n",
       "    }\n",
       "\n",
       "    .dataframe tbody tr th {\n",
       "        vertical-align: top;\n",
       "    }\n",
       "\n",
       "    .dataframe thead th {\n",
       "        text-align: right;\n",
       "    }\n",
       "</style>\n",
       "<table border=\"1\" class=\"dataframe\">\n",
       "  <thead>\n",
       "    <tr style=\"text-align: right;\">\n",
       "      <th></th>\n",
       "      <th>Age</th>\n",
       "      <th>DistanceFromHome</th>\n",
       "      <th>Education</th>\n",
       "      <th>EnvironmentSatisfaction</th>\n",
       "      <th>JobSatisfaction</th>\n",
       "      <th>MonthlyIncome</th>\n",
       "      <th>NumCompaniesWorked</th>\n",
       "      <th>WorkLifeBalance</th>\n",
       "      <th>YearsAtCompany</th>\n",
       "    </tr>\n",
       "  </thead>\n",
       "  <tbody>\n",
       "    <tr>\n",
       "      <th>count</th>\n",
       "      <td>1470.000000</td>\n",
       "      <td>1470.000000</td>\n",
       "      <td>1470.000000</td>\n",
       "      <td>1470.000000</td>\n",
       "      <td>1470.000000</td>\n",
       "      <td>1470.000000</td>\n",
       "      <td>1470.000000</td>\n",
       "      <td>1470.000000</td>\n",
       "      <td>1470.000000</td>\n",
       "    </tr>\n",
       "    <tr>\n",
       "      <th>mean</th>\n",
       "      <td>36.923810</td>\n",
       "      <td>9.192517</td>\n",
       "      <td>2.912925</td>\n",
       "      <td>2.721769</td>\n",
       "      <td>2.728571</td>\n",
       "      <td>6502.931293</td>\n",
       "      <td>2.693197</td>\n",
       "      <td>2.761224</td>\n",
       "      <td>7.008163</td>\n",
       "    </tr>\n",
       "    <tr>\n",
       "      <th>std</th>\n",
       "      <td>9.135373</td>\n",
       "      <td>8.106864</td>\n",
       "      <td>1.024165</td>\n",
       "      <td>1.093082</td>\n",
       "      <td>1.102846</td>\n",
       "      <td>4707.956783</td>\n",
       "      <td>2.498009</td>\n",
       "      <td>0.706476</td>\n",
       "      <td>6.126525</td>\n",
       "    </tr>\n",
       "    <tr>\n",
       "      <th>min</th>\n",
       "      <td>18.000000</td>\n",
       "      <td>1.000000</td>\n",
       "      <td>1.000000</td>\n",
       "      <td>1.000000</td>\n",
       "      <td>1.000000</td>\n",
       "      <td>1009.000000</td>\n",
       "      <td>0.000000</td>\n",
       "      <td>1.000000</td>\n",
       "      <td>0.000000</td>\n",
       "    </tr>\n",
       "    <tr>\n",
       "      <th>25%</th>\n",
       "      <td>30.000000</td>\n",
       "      <td>2.000000</td>\n",
       "      <td>2.000000</td>\n",
       "      <td>2.000000</td>\n",
       "      <td>2.000000</td>\n",
       "      <td>2911.000000</td>\n",
       "      <td>1.000000</td>\n",
       "      <td>2.000000</td>\n",
       "      <td>3.000000</td>\n",
       "    </tr>\n",
       "    <tr>\n",
       "      <th>50%</th>\n",
       "      <td>36.000000</td>\n",
       "      <td>7.000000</td>\n",
       "      <td>3.000000</td>\n",
       "      <td>3.000000</td>\n",
       "      <td>3.000000</td>\n",
       "      <td>4919.000000</td>\n",
       "      <td>2.000000</td>\n",
       "      <td>3.000000</td>\n",
       "      <td>5.000000</td>\n",
       "    </tr>\n",
       "    <tr>\n",
       "      <th>75%</th>\n",
       "      <td>43.000000</td>\n",
       "      <td>14.000000</td>\n",
       "      <td>4.000000</td>\n",
       "      <td>4.000000</td>\n",
       "      <td>4.000000</td>\n",
       "      <td>8379.000000</td>\n",
       "      <td>4.000000</td>\n",
       "      <td>3.000000</td>\n",
       "      <td>9.000000</td>\n",
       "    </tr>\n",
       "    <tr>\n",
       "      <th>max</th>\n",
       "      <td>60.000000</td>\n",
       "      <td>29.000000</td>\n",
       "      <td>5.000000</td>\n",
       "      <td>4.000000</td>\n",
       "      <td>4.000000</td>\n",
       "      <td>19999.000000</td>\n",
       "      <td>9.000000</td>\n",
       "      <td>4.000000</td>\n",
       "      <td>40.000000</td>\n",
       "    </tr>\n",
       "  </tbody>\n",
       "</table>\n",
       "</div>"
      ],
      "text/plain": [
       "               Age  DistanceFromHome    Education  EnvironmentSatisfaction  \\\n",
       "count  1470.000000       1470.000000  1470.000000              1470.000000   \n",
       "mean     36.923810          9.192517     2.912925                 2.721769   \n",
       "std       9.135373          8.106864     1.024165                 1.093082   \n",
       "min      18.000000          1.000000     1.000000                 1.000000   \n",
       "25%      30.000000          2.000000     2.000000                 2.000000   \n",
       "50%      36.000000          7.000000     3.000000                 3.000000   \n",
       "75%      43.000000         14.000000     4.000000                 4.000000   \n",
       "max      60.000000         29.000000     5.000000                 4.000000   \n",
       "\n",
       "       JobSatisfaction  MonthlyIncome  NumCompaniesWorked  WorkLifeBalance  \\\n",
       "count      1470.000000    1470.000000         1470.000000      1470.000000   \n",
       "mean          2.728571    6502.931293            2.693197         2.761224   \n",
       "std           1.102846    4707.956783            2.498009         0.706476   \n",
       "min           1.000000    1009.000000            0.000000         1.000000   \n",
       "25%           2.000000    2911.000000            1.000000         2.000000   \n",
       "50%           3.000000    4919.000000            2.000000         3.000000   \n",
       "75%           4.000000    8379.000000            4.000000         3.000000   \n",
       "max           4.000000   19999.000000            9.000000         4.000000   \n",
       "\n",
       "       YearsAtCompany  \n",
       "count     1470.000000  \n",
       "mean         7.008163  \n",
       "std          6.126525  \n",
       "min          0.000000  \n",
       "25%          3.000000  \n",
       "50%          5.000000  \n",
       "75%          9.000000  \n",
       "max         40.000000  "
      ]
     },
     "execution_count": 10,
     "metadata": {},
     "output_type": "execute_result"
    }
   ],
   "source": [
    "df.describe()"
   ]
  },
  {
   "cell_type": "code",
   "execution_count": 11,
   "id": "6a9257fb",
   "metadata": {},
   "outputs": [
    {
     "name": "stdout",
     "output_type": "stream",
     "text": [
      "<class 'pandas.core.frame.DataFrame'>\n",
      "RangeIndex: 1470 entries, 0 to 1469\n",
      "Data columns (total 13 columns):\n",
      " #   Column                   Non-Null Count  Dtype \n",
      "---  ------                   --------------  ----- \n",
      " 0   Age                      1470 non-null   int64 \n",
      " 1   Attrition                1470 non-null   object\n",
      " 2   Department               1470 non-null   object\n",
      " 3   DistanceFromHome         1470 non-null   int64 \n",
      " 4   Education                1470 non-null   int64 \n",
      " 5   EducationField           1470 non-null   object\n",
      " 6   EnvironmentSatisfaction  1470 non-null   int64 \n",
      " 7   JobSatisfaction          1470 non-null   int64 \n",
      " 8   MaritalStatus            1470 non-null   object\n",
      " 9   MonthlyIncome            1470 non-null   int64 \n",
      " 10  NumCompaniesWorked       1470 non-null   int64 \n",
      " 11  WorkLifeBalance          1470 non-null   int64 \n",
      " 12  YearsAtCompany           1470 non-null   int64 \n",
      "dtypes: int64(9), object(4)\n",
      "memory usage: 149.4+ KB\n"
     ]
    }
   ],
   "source": [
    "df.info()"
   ]
  },
  {
   "cell_type": "code",
   "execution_count": 12,
   "id": "8dea9df0",
   "metadata": {},
   "outputs": [
    {
     "data": {
      "text/plain": [
       "Index(['Age', 'Attrition', 'Department', 'DistanceFromHome', 'Education',\n",
       "       'EducationField', 'EnvironmentSatisfaction', 'JobSatisfaction',\n",
       "       'MaritalStatus', 'MonthlyIncome', 'NumCompaniesWorked',\n",
       "       'WorkLifeBalance', 'YearsAtCompany'],\n",
       "      dtype='object')"
      ]
     },
     "execution_count": 12,
     "metadata": {},
     "output_type": "execute_result"
    }
   ],
   "source": [
    "df.columns"
   ]
  },
  {
   "cell_type": "code",
   "execution_count": 13,
   "id": "e15d756f",
   "metadata": {},
   "outputs": [
    {
     "data": {
      "text/plain": [
       "Age                           9.135373\n",
       "DistanceFromHome              8.106864\n",
       "Education                     1.024165\n",
       "EnvironmentSatisfaction       1.093082\n",
       "JobSatisfaction               1.102846\n",
       "MonthlyIncome              4707.956783\n",
       "NumCompaniesWorked            2.498009\n",
       "WorkLifeBalance               0.706476\n",
       "YearsAtCompany                6.126525\n",
       "dtype: float64"
      ]
     },
     "execution_count": 13,
     "metadata": {},
     "output_type": "execute_result"
    }
   ],
   "source": [
    "df.std()"
   ]
  },
  {
   "cell_type": "code",
   "execution_count": 14,
   "id": "3b25ddf1",
   "metadata": {},
   "outputs": [
    {
     "data": {
      "text/plain": [
       "No     1233\n",
       "Yes     237\n",
       "Name: Attrition, dtype: int64"
      ]
     },
     "execution_count": 14,
     "metadata": {},
     "output_type": "execute_result"
    }
   ],
   "source": [
    "df['Attrition'].value_counts()"
   ]
  },
  {
   "cell_type": "code",
   "execution_count": 15,
   "id": "5a59b3cd",
   "metadata": {},
   "outputs": [
    {
     "data": {
      "text/plain": [
       "dtype('O')"
      ]
     },
     "execution_count": 15,
     "metadata": {},
     "output_type": "execute_result"
    }
   ],
   "source": [
    "df['Attrition'].dtype"
   ]
  },
  {
   "cell_type": "code",
   "execution_count": 16,
   "id": "c74b0e5f",
   "metadata": {},
   "outputs": [],
   "source": [
    "df['Attrition'].replace('Yes', 1, inplace=True)\n",
    "df['Attrition'].replace('No', 0, inplace=True)"
   ]
  },
  {
   "cell_type": "code",
   "execution_count": 17,
   "id": "abfe35fa",
   "metadata": {},
   "outputs": [
    {
     "data": {
      "text/html": [
       "<div>\n",
       "<style scoped>\n",
       "    .dataframe tbody tr th:only-of-type {\n",
       "        vertical-align: middle;\n",
       "    }\n",
       "\n",
       "    .dataframe tbody tr th {\n",
       "        vertical-align: top;\n",
       "    }\n",
       "\n",
       "    .dataframe thead th {\n",
       "        text-align: right;\n",
       "    }\n",
       "</style>\n",
       "<table border=\"1\" class=\"dataframe\">\n",
       "  <thead>\n",
       "    <tr style=\"text-align: right;\">\n",
       "      <th></th>\n",
       "      <th>Age</th>\n",
       "      <th>Attrition</th>\n",
       "      <th>Department</th>\n",
       "      <th>DistanceFromHome</th>\n",
       "      <th>Education</th>\n",
       "      <th>EducationField</th>\n",
       "      <th>EnvironmentSatisfaction</th>\n",
       "      <th>JobSatisfaction</th>\n",
       "      <th>MaritalStatus</th>\n",
       "      <th>MonthlyIncome</th>\n",
       "      <th>NumCompaniesWorked</th>\n",
       "      <th>WorkLifeBalance</th>\n",
       "      <th>YearsAtCompany</th>\n",
       "    </tr>\n",
       "  </thead>\n",
       "  <tbody>\n",
       "    <tr>\n",
       "      <th>0</th>\n",
       "      <td>41</td>\n",
       "      <td>1</td>\n",
       "      <td>Sales</td>\n",
       "      <td>1</td>\n",
       "      <td>2</td>\n",
       "      <td>Life Sciences</td>\n",
       "      <td>2</td>\n",
       "      <td>4</td>\n",
       "      <td>Single</td>\n",
       "      <td>5993</td>\n",
       "      <td>8</td>\n",
       "      <td>1</td>\n",
       "      <td>6</td>\n",
       "    </tr>\n",
       "    <tr>\n",
       "      <th>1</th>\n",
       "      <td>49</td>\n",
       "      <td>0</td>\n",
       "      <td>Research &amp; Development</td>\n",
       "      <td>8</td>\n",
       "      <td>1</td>\n",
       "      <td>Life Sciences</td>\n",
       "      <td>3</td>\n",
       "      <td>2</td>\n",
       "      <td>Married</td>\n",
       "      <td>5130</td>\n",
       "      <td>1</td>\n",
       "      <td>3</td>\n",
       "      <td>10</td>\n",
       "    </tr>\n",
       "    <tr>\n",
       "      <th>2</th>\n",
       "      <td>37</td>\n",
       "      <td>1</td>\n",
       "      <td>Research &amp; Development</td>\n",
       "      <td>2</td>\n",
       "      <td>2</td>\n",
       "      <td>Other</td>\n",
       "      <td>4</td>\n",
       "      <td>3</td>\n",
       "      <td>Single</td>\n",
       "      <td>2090</td>\n",
       "      <td>6</td>\n",
       "      <td>3</td>\n",
       "      <td>0</td>\n",
       "    </tr>\n",
       "    <tr>\n",
       "      <th>3</th>\n",
       "      <td>33</td>\n",
       "      <td>0</td>\n",
       "      <td>Research &amp; Development</td>\n",
       "      <td>3</td>\n",
       "      <td>4</td>\n",
       "      <td>Life Sciences</td>\n",
       "      <td>4</td>\n",
       "      <td>3</td>\n",
       "      <td>Married</td>\n",
       "      <td>2909</td>\n",
       "      <td>1</td>\n",
       "      <td>3</td>\n",
       "      <td>8</td>\n",
       "    </tr>\n",
       "    <tr>\n",
       "      <th>4</th>\n",
       "      <td>27</td>\n",
       "      <td>0</td>\n",
       "      <td>Research &amp; Development</td>\n",
       "      <td>2</td>\n",
       "      <td>1</td>\n",
       "      <td>Medical</td>\n",
       "      <td>1</td>\n",
       "      <td>2</td>\n",
       "      <td>Married</td>\n",
       "      <td>3468</td>\n",
       "      <td>9</td>\n",
       "      <td>3</td>\n",
       "      <td>2</td>\n",
       "    </tr>\n",
       "  </tbody>\n",
       "</table>\n",
       "</div>"
      ],
      "text/plain": [
       "   Age  Attrition              Department  DistanceFromHome  Education  \\\n",
       "0   41          1                   Sales                 1          2   \n",
       "1   49          0  Research & Development                 8          1   \n",
       "2   37          1  Research & Development                 2          2   \n",
       "3   33          0  Research & Development                 3          4   \n",
       "4   27          0  Research & Development                 2          1   \n",
       "\n",
       "  EducationField  EnvironmentSatisfaction  JobSatisfaction MaritalStatus  \\\n",
       "0  Life Sciences                        2                4        Single   \n",
       "1  Life Sciences                        3                2       Married   \n",
       "2          Other                        4                3        Single   \n",
       "3  Life Sciences                        4                3       Married   \n",
       "4        Medical                        1                2       Married   \n",
       "\n",
       "   MonthlyIncome  NumCompaniesWorked  WorkLifeBalance  YearsAtCompany  \n",
       "0           5993                   8                1               6  \n",
       "1           5130                   1                3              10  \n",
       "2           2090                   6                3               0  \n",
       "3           2909                   1                3               8  \n",
       "4           3468                   9                3               2  "
      ]
     },
     "execution_count": 17,
     "metadata": {},
     "output_type": "execute_result"
    }
   ],
   "source": [
    "df.head()"
   ]
  },
  {
   "cell_type": "markdown",
   "id": "8faa6ad8",
   "metadata": {},
   "source": [
    "# Building a Logistic Regression Model"
   ]
  },
  {
   "cell_type": "code",
   "execution_count": 18,
   "id": "c30e5161",
   "metadata": {},
   "outputs": [
    {
     "data": {
      "text/plain": [
       "0    1\n",
       "1    0\n",
       "2    1\n",
       "3    0\n",
       "4    0\n",
       "Name: Attrition, dtype: int64"
      ]
     },
     "execution_count": 18,
     "metadata": {},
     "output_type": "execute_result"
    }
   ],
   "source": [
    "X = df.drop(['Attrition'], axis= 1)\n",
    "X.head()\n",
    "Y = df['Attrition']\n",
    "Y.head()"
   ]
  },
  {
   "cell_type": "code",
   "execution_count": 19,
   "id": "769db854",
   "metadata": {},
   "outputs": [],
   "source": [
    "df['EducationField'].replace('Life Sciences', 1, inplace=True)\n",
    "df['EducationField'].replace('Medical', 2, inplace=True)\n",
    "df['EducationField'].replace('Marketing', 3, inplace=True)\n",
    "df['EducationField'].replace('Technical Degree', 4, inplace=True)\n",
    "df['EducationField'].replace('Human Resources', 5, inplace=True)\n",
    "df['EducationField'].replace('Other', 6, inplace=True)"
   ]
  },
  {
   "cell_type": "code",
   "execution_count": 20,
   "id": "5ee6d472",
   "metadata": {},
   "outputs": [
    {
     "data": {
      "text/plain": [
       "1    606\n",
       "2    464\n",
       "3    159\n",
       "4    132\n",
       "6     82\n",
       "5     27\n",
       "Name: EducationField, dtype: int64"
      ]
     },
     "execution_count": 20,
     "metadata": {},
     "output_type": "execute_result"
    }
   ],
   "source": [
    "df['EducationField'].value_counts()"
   ]
  },
  {
   "cell_type": "code",
   "execution_count": 21,
   "id": "2bfb310e",
   "metadata": {},
   "outputs": [],
   "source": [
    "df['Department'].replace('Research & Development', 1, inplace=True)\n",
    "df['Department'].replace('Sales', 2, inplace=True)\n",
    "df['Department'].replace('Human Resources', 3, inplace=True)"
   ]
  },
  {
   "cell_type": "code",
   "execution_count": 22,
   "id": "eba63b89",
   "metadata": {},
   "outputs": [
    {
     "data": {
      "text/plain": [
       "1    961\n",
       "2    446\n",
       "3     63\n",
       "Name: Department, dtype: int64"
      ]
     },
     "execution_count": 22,
     "metadata": {},
     "output_type": "execute_result"
    }
   ],
   "source": [
    "df['Department'].value_counts()"
   ]
  },
  {
   "cell_type": "code",
   "execution_count": 23,
   "id": "c80ce3d3",
   "metadata": {},
   "outputs": [
    {
     "data": {
      "text/plain": [
       "Married     673\n",
       "Single      470\n",
       "Divorced    327\n",
       "Name: MaritalStatus, dtype: int64"
      ]
     },
     "execution_count": 23,
     "metadata": {},
     "output_type": "execute_result"
    }
   ],
   "source": [
    "df['MaritalStatus'].value_counts()"
   ]
  },
  {
   "cell_type": "code",
   "execution_count": 24,
   "id": "00c38614",
   "metadata": {},
   "outputs": [],
   "source": [
    "df['MaritalStatus'].replace('Married', 1, inplace=True)\n",
    "df['MaritalStatus'].replace('Single', 2, inplace=True)\n",
    "df['MaritalStatus'].replace('Divorced', 3, inplace=True)"
   ]
  },
  {
   "cell_type": "code",
   "execution_count": 25,
   "id": "d453fdbc",
   "metadata": {},
   "outputs": [
    {
     "data": {
      "text/plain": [
       "1    673\n",
       "2    470\n",
       "3    327\n",
       "Name: MaritalStatus, dtype: int64"
      ]
     },
     "execution_count": 25,
     "metadata": {},
     "output_type": "execute_result"
    }
   ],
   "source": [
    "df['MaritalStatus'].value_counts()"
   ]
  },
  {
   "cell_type": "code",
   "execution_count": 26,
   "id": "34800cf0",
   "metadata": {},
   "outputs": [
    {
     "data": {
      "text/html": [
       "<div>\n",
       "<style scoped>\n",
       "    .dataframe tbody tr th:only-of-type {\n",
       "        vertical-align: middle;\n",
       "    }\n",
       "\n",
       "    .dataframe tbody tr th {\n",
       "        vertical-align: top;\n",
       "    }\n",
       "\n",
       "    .dataframe thead th {\n",
       "        text-align: right;\n",
       "    }\n",
       "</style>\n",
       "<table border=\"1\" class=\"dataframe\">\n",
       "  <thead>\n",
       "    <tr style=\"text-align: right;\">\n",
       "      <th></th>\n",
       "      <th>Age</th>\n",
       "      <th>Attrition</th>\n",
       "      <th>Department</th>\n",
       "      <th>DistanceFromHome</th>\n",
       "      <th>Education</th>\n",
       "      <th>EducationField</th>\n",
       "      <th>EnvironmentSatisfaction</th>\n",
       "      <th>JobSatisfaction</th>\n",
       "      <th>MaritalStatus</th>\n",
       "      <th>MonthlyIncome</th>\n",
       "      <th>NumCompaniesWorked</th>\n",
       "      <th>WorkLifeBalance</th>\n",
       "      <th>YearsAtCompany</th>\n",
       "    </tr>\n",
       "  </thead>\n",
       "  <tbody>\n",
       "    <tr>\n",
       "      <th>0</th>\n",
       "      <td>41</td>\n",
       "      <td>1</td>\n",
       "      <td>2</td>\n",
       "      <td>1</td>\n",
       "      <td>2</td>\n",
       "      <td>1</td>\n",
       "      <td>2</td>\n",
       "      <td>4</td>\n",
       "      <td>2</td>\n",
       "      <td>5993</td>\n",
       "      <td>8</td>\n",
       "      <td>1</td>\n",
       "      <td>6</td>\n",
       "    </tr>\n",
       "    <tr>\n",
       "      <th>1</th>\n",
       "      <td>49</td>\n",
       "      <td>0</td>\n",
       "      <td>1</td>\n",
       "      <td>8</td>\n",
       "      <td>1</td>\n",
       "      <td>1</td>\n",
       "      <td>3</td>\n",
       "      <td>2</td>\n",
       "      <td>1</td>\n",
       "      <td>5130</td>\n",
       "      <td>1</td>\n",
       "      <td>3</td>\n",
       "      <td>10</td>\n",
       "    </tr>\n",
       "    <tr>\n",
       "      <th>2</th>\n",
       "      <td>37</td>\n",
       "      <td>1</td>\n",
       "      <td>1</td>\n",
       "      <td>2</td>\n",
       "      <td>2</td>\n",
       "      <td>6</td>\n",
       "      <td>4</td>\n",
       "      <td>3</td>\n",
       "      <td>2</td>\n",
       "      <td>2090</td>\n",
       "      <td>6</td>\n",
       "      <td>3</td>\n",
       "      <td>0</td>\n",
       "    </tr>\n",
       "    <tr>\n",
       "      <th>3</th>\n",
       "      <td>33</td>\n",
       "      <td>0</td>\n",
       "      <td>1</td>\n",
       "      <td>3</td>\n",
       "      <td>4</td>\n",
       "      <td>1</td>\n",
       "      <td>4</td>\n",
       "      <td>3</td>\n",
       "      <td>1</td>\n",
       "      <td>2909</td>\n",
       "      <td>1</td>\n",
       "      <td>3</td>\n",
       "      <td>8</td>\n",
       "    </tr>\n",
       "    <tr>\n",
       "      <th>4</th>\n",
       "      <td>27</td>\n",
       "      <td>0</td>\n",
       "      <td>1</td>\n",
       "      <td>2</td>\n",
       "      <td>1</td>\n",
       "      <td>2</td>\n",
       "      <td>1</td>\n",
       "      <td>2</td>\n",
       "      <td>1</td>\n",
       "      <td>3468</td>\n",
       "      <td>9</td>\n",
       "      <td>3</td>\n",
       "      <td>2</td>\n",
       "    </tr>\n",
       "  </tbody>\n",
       "</table>\n",
       "</div>"
      ],
      "text/plain": [
       "   Age  Attrition  Department  DistanceFromHome  Education  EducationField  \\\n",
       "0   41          1           2                 1          2               1   \n",
       "1   49          0           1                 8          1               1   \n",
       "2   37          1           1                 2          2               6   \n",
       "3   33          0           1                 3          4               1   \n",
       "4   27          0           1                 2          1               2   \n",
       "\n",
       "   EnvironmentSatisfaction  JobSatisfaction  MaritalStatus  MonthlyIncome  \\\n",
       "0                        2                4              2           5993   \n",
       "1                        3                2              1           5130   \n",
       "2                        4                3              2           2090   \n",
       "3                        4                3              1           2909   \n",
       "4                        1                2              1           3468   \n",
       "\n",
       "   NumCompaniesWorked  WorkLifeBalance  YearsAtCompany  \n",
       "0                   8                1               6  \n",
       "1                   1                3              10  \n",
       "2                   6                3               0  \n",
       "3                   1                3               8  \n",
       "4                   9                3               2  "
      ]
     },
     "execution_count": 26,
     "metadata": {},
     "output_type": "execute_result"
    }
   ],
   "source": [
    "df.head()"
   ]
  },
  {
   "cell_type": "code",
   "execution_count": 27,
   "id": "4ab72934",
   "metadata": {},
   "outputs": [
    {
     "data": {
      "text/plain": [
       "Age                        int64\n",
       "Attrition                  int64\n",
       "Department                 int64\n",
       "DistanceFromHome           int64\n",
       "Education                  int64\n",
       "EducationField             int64\n",
       "EnvironmentSatisfaction    int64\n",
       "JobSatisfaction            int64\n",
       "MaritalStatus              int64\n",
       "MonthlyIncome              int64\n",
       "NumCompaniesWorked         int64\n",
       "WorkLifeBalance            int64\n",
       "YearsAtCompany             int64\n",
       "dtype: object"
      ]
     },
     "execution_count": 27,
     "metadata": {},
     "output_type": "execute_result"
    }
   ],
   "source": [
    "x=df.select_dtypes(include=['int64'])\n",
    "x.dtypes"
   ]
  },
  {
   "cell_type": "code",
   "execution_count": 28,
   "id": "45cc6480",
   "metadata": {},
   "outputs": [
    {
     "data": {
      "text/plain": [
       "Index(['Age', 'Attrition', 'Department', 'DistanceFromHome', 'Education',\n",
       "       'EducationField', 'EnvironmentSatisfaction', 'JobSatisfaction',\n",
       "       'MaritalStatus', 'MonthlyIncome', 'NumCompaniesWorked',\n",
       "       'WorkLifeBalance', 'YearsAtCompany'],\n",
       "      dtype='object')"
      ]
     },
     "execution_count": 28,
     "metadata": {},
     "output_type": "execute_result"
    }
   ],
   "source": [
    "x.columns"
   ]
  },
  {
   "cell_type": "code",
   "execution_count": 29,
   "id": "8d9e3e6e",
   "metadata": {},
   "outputs": [
    {
     "data": {
      "text/plain": [
       "0    1\n",
       "1    0\n",
       "2    1\n",
       "3    0\n",
       "4    0\n",
       "Name: Attrition, dtype: int64"
      ]
     },
     "execution_count": 29,
     "metadata": {},
     "output_type": "execute_result"
    }
   ],
   "source": [
    "y = df['Attrition']\n",
    "y.head()"
   ]
  },
  {
   "cell_type": "code",
   "execution_count": 30,
   "id": "6f62f01a",
   "metadata": {},
   "outputs": [
    {
     "name": "stdout",
     "output_type": "stream",
     "text": [
      "Index(['Intercept', 'Age', 'Department', 'DistanceFromHome', 'Education',\n",
      "       'EducationField', 'YearsAtCompany'],\n",
      "      dtype='object')\n"
     ]
    }
   ],
   "source": [
    "from patsy import dmatrices\n",
    "y, x = dmatrices('Attrition ~ Age + Department + \\\n",
    "                  DistanceFromHome + Education + EducationField + YearsAtCompany',\n",
    "                  df, return_type=\"dataframe\")\n",
    "print (x.columns)"
   ]
  },
  {
   "cell_type": "code",
   "execution_count": 31,
   "id": "7e9b8bc2",
   "metadata": {},
   "outputs": [],
   "source": [
    "y = np.ravel(y)"
   ]
  },
  {
   "cell_type": "code",
   "execution_count": 32,
   "id": "b3a0a6cd",
   "metadata": {},
   "outputs": [
    {
     "data": {
      "text/plain": [
       "0.8408163265306122"
      ]
     },
     "execution_count": 32,
     "metadata": {},
     "output_type": "execute_result"
    }
   ],
   "source": [
    "#from sklearn.linear_model import LogisticRegression\n",
    "\n",
    "model = LogisticRegression()\n",
    "model = model.fit(x, y)\n",
    "\n",
    "# check the accuracy on the training set\n",
    "model.score(x, y)"
   ]
  },
  {
   "cell_type": "code",
   "execution_count": 33,
   "id": "ccb850dc",
   "metadata": {},
   "outputs": [
    {
     "data": {
      "text/plain": [
       "0.16122448979591836"
      ]
     },
     "execution_count": 33,
     "metadata": {},
     "output_type": "execute_result"
    }
   ],
   "source": [
    "y.mean()"
   ]
  },
  {
   "cell_type": "code",
   "execution_count": 35,
   "id": "1825f6ab",
   "metadata": {},
   "outputs": [
    {
     "data": {
      "text/html": [
       "<style>#sk-container-id-1 {color: black;background-color: white;}#sk-container-id-1 pre{padding: 0;}#sk-container-id-1 div.sk-toggleable {background-color: white;}#sk-container-id-1 label.sk-toggleable__label {cursor: pointer;display: block;width: 100%;margin-bottom: 0;padding: 0.3em;box-sizing: border-box;text-align: center;}#sk-container-id-1 label.sk-toggleable__label-arrow:before {content: \"▸\";float: left;margin-right: 0.25em;color: #696969;}#sk-container-id-1 label.sk-toggleable__label-arrow:hover:before {color: black;}#sk-container-id-1 div.sk-estimator:hover label.sk-toggleable__label-arrow:before {color: black;}#sk-container-id-1 div.sk-toggleable__content {max-height: 0;max-width: 0;overflow: hidden;text-align: left;background-color: #f0f8ff;}#sk-container-id-1 div.sk-toggleable__content pre {margin: 0.2em;color: black;border-radius: 0.25em;background-color: #f0f8ff;}#sk-container-id-1 input.sk-toggleable__control:checked~div.sk-toggleable__content {max-height: 200px;max-width: 100%;overflow: auto;}#sk-container-id-1 input.sk-toggleable__control:checked~label.sk-toggleable__label-arrow:before {content: \"▾\";}#sk-container-id-1 div.sk-estimator input.sk-toggleable__control:checked~label.sk-toggleable__label {background-color: #d4ebff;}#sk-container-id-1 div.sk-label input.sk-toggleable__control:checked~label.sk-toggleable__label {background-color: #d4ebff;}#sk-container-id-1 input.sk-hidden--visually {border: 0;clip: rect(1px 1px 1px 1px);clip: rect(1px, 1px, 1px, 1px);height: 1px;margin: -1px;overflow: hidden;padding: 0;position: absolute;width: 1px;}#sk-container-id-1 div.sk-estimator {font-family: monospace;background-color: #f0f8ff;border: 1px dotted black;border-radius: 0.25em;box-sizing: border-box;margin-bottom: 0.5em;}#sk-container-id-1 div.sk-estimator:hover {background-color: #d4ebff;}#sk-container-id-1 div.sk-parallel-item::after {content: \"\";width: 100%;border-bottom: 1px solid gray;flex-grow: 1;}#sk-container-id-1 div.sk-label:hover label.sk-toggleable__label {background-color: #d4ebff;}#sk-container-id-1 div.sk-serial::before {content: \"\";position: absolute;border-left: 1px solid gray;box-sizing: border-box;top: 0;bottom: 0;left: 50%;z-index: 0;}#sk-container-id-1 div.sk-serial {display: flex;flex-direction: column;align-items: center;background-color: white;padding-right: 0.2em;padding-left: 0.2em;position: relative;}#sk-container-id-1 div.sk-item {position: relative;z-index: 1;}#sk-container-id-1 div.sk-parallel {display: flex;align-items: stretch;justify-content: center;background-color: white;position: relative;}#sk-container-id-1 div.sk-item::before, #sk-container-id-1 div.sk-parallel-item::before {content: \"\";position: absolute;border-left: 1px solid gray;box-sizing: border-box;top: 0;bottom: 0;left: 50%;z-index: -1;}#sk-container-id-1 div.sk-parallel-item {display: flex;flex-direction: column;z-index: 1;position: relative;background-color: white;}#sk-container-id-1 div.sk-parallel-item:first-child::after {align-self: flex-end;width: 50%;}#sk-container-id-1 div.sk-parallel-item:last-child::after {align-self: flex-start;width: 50%;}#sk-container-id-1 div.sk-parallel-item:only-child::after {width: 0;}#sk-container-id-1 div.sk-dashed-wrapped {border: 1px dashed gray;margin: 0 0.4em 0.5em 0.4em;box-sizing: border-box;padding-bottom: 0.4em;background-color: white;}#sk-container-id-1 div.sk-label label {font-family: monospace;font-weight: bold;display: inline-block;line-height: 1.2em;}#sk-container-id-1 div.sk-label-container {text-align: center;}#sk-container-id-1 div.sk-container {/* jupyter's `normalize.less` sets `[hidden] { display: none; }` but bootstrap.min.css set `[hidden] { display: none !important; }` so we also need the `!important` here to be able to override the default hidden behavior on the sphinx rendered scikit-learn.org. See: https://github.com/scikit-learn/scikit-learn/issues/21755 */display: inline-block !important;position: relative;}#sk-container-id-1 div.sk-text-repr-fallback {display: none;}</style><div id=\"sk-container-id-1\" class=\"sk-top-container\"><div class=\"sk-text-repr-fallback\"><pre>LogisticRegression()</pre><b>In a Jupyter environment, please rerun this cell to show the HTML representation or trust the notebook. <br />On GitHub, the HTML representation is unable to render, please try loading this page with nbviewer.org.</b></div><div class=\"sk-container\" hidden><div class=\"sk-item\"><div class=\"sk-estimator sk-toggleable\"><input class=\"sk-toggleable__control sk-hidden--visually\" id=\"sk-estimator-id-1\" type=\"checkbox\" checked><label for=\"sk-estimator-id-1\" class=\"sk-toggleable__label sk-toggleable__label-arrow\">LogisticRegression</label><div class=\"sk-toggleable__content\"><pre>LogisticRegression()</pre></div></div></div></div></div>"
      ],
      "text/plain": [
       "LogisticRegression()"
      ]
     },
     "execution_count": 35,
     "metadata": {},
     "output_type": "execute_result"
    }
   ],
   "source": [
    "# train and test split the data\n",
    "X_train, X_test, y_train, y_test = sklearn.model_selection.train_test_split(x,y,test_size=0.3,random_state=0)\n",
    "model2 = LogisticRegression()\n",
    "model2.fit(X_train, y_train)"
   ]
  },
  {
   "cell_type": "code",
   "execution_count": 37,
   "id": "20c20c10",
   "metadata": {},
   "outputs": [
    {
     "name": "stdout",
     "output_type": "stream",
     "text": [
      "[0. 0. 0. 0. 0. 0. 0. 0. 0. 0. 0. 0. 0. 0. 0. 0. 0. 0. 0. 0. 0. 0. 0. 0.\n",
      " 0. 0. 0. 0. 0. 0. 0. 0. 0. 0. 0. 0. 0. 0. 0. 0. 0. 0. 0. 0. 0. 0. 0. 0.\n",
      " 0. 0. 0. 0. 0. 0. 0. 0. 0. 0. 0. 0. 0. 0. 0. 0. 0. 0. 0. 0. 0. 0. 0. 0.\n",
      " 0. 0. 0. 0. 0. 0. 0. 0. 0. 0. 0. 0. 0. 0. 0. 0. 0. 0. 0. 0. 0. 0. 0. 0.\n",
      " 0. 0. 0. 0. 0. 0. 0. 0. 0. 0. 0. 0. 0. 0. 0. 0. 0. 0. 0. 0. 0. 0. 0. 0.\n",
      " 0. 0. 0. 0. 0. 0. 0. 0. 0. 0. 0. 0. 0. 0. 0. 0. 0. 0. 0. 0. 0. 0. 0. 0.\n",
      " 0. 0. 0. 0. 0. 0. 0. 0. 0. 0. 0. 0. 0. 0. 0. 0. 0. 0. 0. 0. 0. 0. 0. 0.\n",
      " 0. 0. 0. 0. 0. 0. 0. 0. 0. 0. 0. 0. 0. 0. 0. 0. 0. 0. 0. 0. 0. 0. 0. 0.\n",
      " 0. 0. 0. 0. 0. 0. 0. 0. 0. 0. 0. 0. 0. 0. 0. 0. 0. 0. 0. 0. 0. 0. 0. 0.\n",
      " 0. 0. 0. 0. 0. 0. 0. 0. 0. 0. 0. 0. 0. 0. 0. 0. 0. 0. 0. 0. 0. 0. 0. 0.\n",
      " 0. 0. 0. 0. 0. 0. 0. 0. 0. 0. 0. 0. 0. 0. 0. 0. 0. 0. 0. 0. 0. 0. 0. 0.\n",
      " 0. 0. 0. 0. 0. 0. 0. 0. 0. 0. 0. 0. 0. 0. 0. 0. 0. 0. 0. 0. 0. 0. 0. 0.\n",
      " 0. 0. 0. 0. 0. 0. 0. 0. 0. 0. 0. 0. 0. 0. 0. 0. 0. 0. 0. 0. 0. 0. 0. 0.\n",
      " 0. 0. 0. 0. 0. 0. 0. 0. 0. 0. 0. 0. 0. 0. 0. 0. 0. 0. 0. 0. 0. 0. 0. 0.\n",
      " 0. 0. 0. 0. 0. 0. 0. 0. 0. 0. 0. 0. 0. 0. 0. 0. 0. 0. 0. 0. 0. 0. 0. 0.\n",
      " 0. 0. 0. 0. 0. 0. 0. 0. 0. 0. 0. 0. 0. 0. 0. 0. 0. 0. 0. 0. 0. 0. 0. 0.\n",
      " 0. 0. 0. 0. 0. 0. 0. 0. 0. 0. 0. 0. 0. 0. 0. 0. 0. 0. 0. 0. 0. 0. 0. 0.\n",
      " 0. 0. 0. 0. 0. 0. 0. 0. 0. 0. 0. 0. 0. 0. 0. 0. 0. 0. 0. 0. 0. 0. 0. 0.\n",
      " 0. 0. 0. 0. 0. 0. 0. 0. 0.]\n"
     ]
    }
   ],
   "source": [
    "predicted = model2.predict(X_test)\n",
    "print(predicted)"
   ]
  },
  {
   "cell_type": "code",
   "execution_count": 39,
   "id": "9c1f7406",
   "metadata": {},
   "outputs": [
    {
     "name": "stdout",
     "output_type": "stream",
     "text": [
      "[[0.85827842 0.14172158]\n",
      " [0.80180884 0.19819116]\n",
      " [0.74319053 0.25680947]\n",
      " [0.86595524 0.13404476]\n",
      " [0.72668152 0.27331848]\n",
      " [0.79148967 0.20851033]\n",
      " [0.85282794 0.14717206]\n",
      " [0.8578188  0.1421812 ]\n",
      " [0.96443682 0.03556318]\n",
      " [0.93460373 0.06539627]\n",
      " [0.95098163 0.04901837]\n",
      " [0.83137216 0.16862784]\n",
      " [0.85730109 0.14269891]\n",
      " [0.86098367 0.13901633]\n",
      " [0.88765044 0.11234956]\n",
      " [0.88579899 0.11420101]\n",
      " [0.88070576 0.11929424]\n",
      " [0.77728855 0.22271145]\n",
      " [0.83499724 0.16500276]\n",
      " [0.86946378 0.13053622]\n",
      " [0.69813424 0.30186576]\n",
      " [0.94698085 0.05301915]\n",
      " [0.86854212 0.13145788]\n",
      " [0.83191582 0.16808418]\n",
      " [0.60493402 0.39506598]\n",
      " [0.84006498 0.15993502]\n",
      " [0.91554835 0.08445165]\n",
      " [0.92776955 0.07223045]\n",
      " [0.67255611 0.32744389]\n",
      " [0.86899889 0.13100111]\n",
      " [0.89798926 0.10201074]\n",
      " [0.80226175 0.19773825]\n",
      " [0.86298997 0.13701003]\n",
      " [0.95775407 0.04224593]\n",
      " [0.82449951 0.17550049]\n",
      " [0.86853491 0.13146509]\n",
      " [0.90442815 0.09557185]\n",
      " [0.65612265 0.34387735]\n",
      " [0.90330665 0.09669335]\n",
      " [0.80141553 0.19858447]\n",
      " [0.9036012  0.0963988 ]\n",
      " [0.81922872 0.18077128]\n",
      " [0.93748658 0.06251342]\n",
      " [0.92937736 0.07062264]\n",
      " [0.89454705 0.10545295]\n",
      " [0.84773617 0.15226383]\n",
      " [0.78804863 0.21195137]\n",
      " [0.84283724 0.15716276]\n",
      " [0.66542037 0.33457963]\n",
      " [0.76341674 0.23658326]\n",
      " [0.92589265 0.07410735]\n",
      " [0.78911051 0.21088949]\n",
      " [0.85807217 0.14192783]\n",
      " [0.85993534 0.14006466]\n",
      " [0.86764502 0.13235498]\n",
      " [0.82829358 0.17170642]\n",
      " [0.87209165 0.12790835]\n",
      " [0.86568668 0.13431332]\n",
      " [0.7125334  0.2874666 ]\n",
      " [0.83348021 0.16651979]\n",
      " [0.88998376 0.11001624]\n",
      " [0.69284407 0.30715593]\n",
      " [0.94324875 0.05675125]\n",
      " [0.83907387 0.16092613]\n",
      " [0.79736275 0.20263725]\n",
      " [0.89305083 0.10694917]\n",
      " [0.91422983 0.08577017]\n",
      " [0.84922051 0.15077949]\n",
      " [0.88927748 0.11072252]\n",
      " [0.66710979 0.33289021]\n",
      " [0.93898877 0.06101123]\n",
      " [0.72756353 0.27243647]\n",
      " [0.85222274 0.14777726]\n",
      " [0.8371367  0.1628633 ]\n",
      " [0.7760571  0.2239429 ]\n",
      " [0.71784812 0.28215188]\n",
      " [0.93289853 0.06710147]\n",
      " [0.95524946 0.04475054]\n",
      " [0.7788499  0.2211501 ]\n",
      " [0.89363239 0.10636761]\n",
      " [0.91363933 0.08636067]\n",
      " [0.82423061 0.17576939]\n",
      " [0.77983747 0.22016253]\n",
      " [0.77710275 0.22289725]\n",
      " [0.8374213  0.1625787 ]\n",
      " [0.75367898 0.24632102]\n",
      " [0.97792941 0.02207059]\n",
      " [0.94388836 0.05611164]\n",
      " [0.88170185 0.11829815]\n",
      " [0.7887427  0.2112573 ]\n",
      " [0.62013668 0.37986332]\n",
      " [0.81926886 0.18073114]\n",
      " [0.74685394 0.25314606]\n",
      " [0.86335265 0.13664735]\n",
      " [0.87139393 0.12860607]\n",
      " [0.80523097 0.19476903]\n",
      " [0.68613148 0.31386852]\n",
      " [0.64618303 0.35381697]\n",
      " [0.83819966 0.16180034]\n",
      " [0.87912294 0.12087706]\n",
      " [0.73778107 0.26221893]\n",
      " [0.76462315 0.23537685]\n",
      " [0.98069242 0.01930758]\n",
      " [0.91191054 0.08808946]\n",
      " [0.74716841 0.25283159]\n",
      " [0.92503482 0.07496518]\n",
      " [0.88169486 0.11830514]\n",
      " [0.73112088 0.26887912]\n",
      " [0.898223   0.101777  ]\n",
      " [0.74717486 0.25282514]\n",
      " [0.81156214 0.18843786]\n",
      " [0.92982406 0.07017594]\n",
      " [0.93848286 0.06151714]\n",
      " [0.83184065 0.16815935]\n",
      " [0.8146225  0.1853775 ]\n",
      " [0.91352717 0.08647283]\n",
      " [0.90023803 0.09976197]\n",
      " [0.83605643 0.16394357]\n",
      " [0.95152781 0.04847219]\n",
      " [0.90995743 0.09004257]\n",
      " [0.85936923 0.14063077]\n",
      " [0.85521756 0.14478244]\n",
      " [0.86616215 0.13383785]\n",
      " [0.7546326  0.2453674 ]\n",
      " [0.91552604 0.08447396]\n",
      " [0.96738081 0.03261919]\n",
      " [0.94100498 0.05899502]\n",
      " [0.80513882 0.19486118]\n",
      " [0.87621262 0.12378738]\n",
      " [0.81660267 0.18339733]\n",
      " [0.97029265 0.02970735]\n",
      " [0.88472645 0.11527355]\n",
      " [0.75972849 0.24027151]\n",
      " [0.8208754  0.1791246 ]\n",
      " [0.94724115 0.05275885]\n",
      " [0.95910406 0.04089594]\n",
      " [0.73703815 0.26296185]\n",
      " [0.93378681 0.06621319]\n",
      " [0.73955589 0.26044411]\n",
      " [0.82266757 0.17733243]\n",
      " [0.79921323 0.20078677]\n",
      " [0.89596392 0.10403608]\n",
      " [0.75984754 0.24015246]\n",
      " [0.89395448 0.10604552]\n",
      " [0.91392128 0.08607872]\n",
      " [0.9220105  0.0779895 ]\n",
      " [0.96477568 0.03522432]\n",
      " [0.9555339  0.0444661 ]\n",
      " [0.92503325 0.07496675]\n",
      " [0.61918562 0.38081438]\n",
      " [0.84296013 0.15703987]\n",
      " [0.82802268 0.17197732]\n",
      " [0.78276206 0.21723794]\n",
      " [0.96185041 0.03814959]\n",
      " [0.93082992 0.06917008]\n",
      " [0.9452022  0.0547978 ]\n",
      " [0.97262532 0.02737468]\n",
      " [0.79460006 0.20539994]\n",
      " [0.87842989 0.12157011]\n",
      " [0.85566615 0.14433385]\n",
      " [0.94835927 0.05164073]\n",
      " [0.92675068 0.07324932]\n",
      " [0.75766161 0.24233839]\n",
      " [0.74396154 0.25603846]\n",
      " [0.95361196 0.04638804]\n",
      " [0.86427138 0.13572862]\n",
      " [0.84276049 0.15723951]\n",
      " [0.76173866 0.23826134]\n",
      " [0.78796832 0.21203168]\n",
      " [0.92536384 0.07463616]\n",
      " [0.91013268 0.08986732]\n",
      " [0.94285392 0.05714608]\n",
      " [0.93050675 0.06949325]\n",
      " [0.68391681 0.31608319]\n",
      " [0.94485539 0.05514461]\n",
      " [0.73855184 0.26144816]\n",
      " [0.77902983 0.22097017]\n",
      " [0.93055382 0.06944618]\n",
      " [0.8077257  0.1922743 ]\n",
      " [0.85088667 0.14911333]\n",
      " [0.66963789 0.33036211]\n",
      " [0.904526   0.095474  ]\n",
      " [0.91143024 0.08856976]\n",
      " [0.86428477 0.13571523]\n",
      " [0.92696317 0.07303683]\n",
      " [0.71041149 0.28958851]\n",
      " [0.89126174 0.10873826]\n",
      " [0.85800061 0.14199939]\n",
      " [0.78096512 0.21903488]\n",
      " [0.58171893 0.41828107]\n",
      " [0.73558532 0.26441468]\n",
      " [0.70934023 0.29065977]\n",
      " [0.85524134 0.14475866]\n",
      " [0.86590796 0.13409204]\n",
      " [0.75352133 0.24647867]\n",
      " [0.89788398 0.10211602]\n",
      " [0.75991679 0.24008321]\n",
      " [0.92480486 0.07519514]\n",
      " [0.76806481 0.23193519]\n",
      " [0.88450136 0.11549864]\n",
      " [0.84939442 0.15060558]\n",
      " [0.80809743 0.19190257]\n",
      " [0.728899   0.271101  ]\n",
      " [0.8586438  0.1413562 ]\n",
      " [0.77930257 0.22069743]\n",
      " [0.7695701  0.2304299 ]\n",
      " [0.78987076 0.21012924]\n",
      " [0.91844354 0.08155646]\n",
      " [0.78255682 0.21744318]\n",
      " [0.8578867  0.1421133 ]\n",
      " [0.85536252 0.14463748]\n",
      " [0.76029081 0.23970919]\n",
      " [0.87332948 0.12667052]\n",
      " [0.71704346 0.28295654]\n",
      " [0.93652099 0.06347901]\n",
      " [0.82496623 0.17503377]\n",
      " [0.95179202 0.04820798]\n",
      " [0.83587329 0.16412671]\n",
      " [0.7857471  0.2142529 ]\n",
      " [0.80246107 0.19753893]\n",
      " [0.87679175 0.12320825]\n",
      " [0.70888173 0.29111827]\n",
      " [0.5594305  0.4405695 ]\n",
      " [0.98974322 0.01025678]\n",
      " [0.66393911 0.33606089]\n",
      " [0.91575944 0.08424056]\n",
      " [0.91851721 0.08148279]\n",
      " [0.68040779 0.31959221]\n",
      " [0.62608566 0.37391434]\n",
      " [0.73713382 0.26286618]\n",
      " [0.95407141 0.04592859]\n",
      " [0.87772439 0.12227561]\n",
      " [0.85429388 0.14570612]\n",
      " [0.91875637 0.08124363]\n",
      " [0.88052222 0.11947778]\n",
      " [0.80017981 0.19982019]\n",
      " [0.80634695 0.19365305]\n",
      " [0.91361466 0.08638534]\n",
      " [0.69078702 0.30921298]\n",
      " [0.94327841 0.05672159]\n",
      " [0.90864605 0.09135395]\n",
      " [0.73301398 0.26698602]\n",
      " [0.97974452 0.02025548]\n",
      " [0.85103779 0.14896221]\n",
      " [0.91858267 0.08141733]\n",
      " [0.82494799 0.17505201]\n",
      " [0.83349863 0.16650137]\n",
      " [0.88020535 0.11979465]\n",
      " [0.877207   0.122793  ]\n",
      " [0.8768634  0.1231366 ]\n",
      " [0.80938839 0.19061161]\n",
      " [0.86425383 0.13574617]\n",
      " [0.60589621 0.39410379]\n",
      " [0.88367131 0.11632869]\n",
      " [0.89229354 0.10770646]\n",
      " [0.85330909 0.14669091]\n",
      " [0.98250323 0.01749677]\n",
      " [0.76678705 0.23321295]\n",
      " [0.67840599 0.32159401]\n",
      " [0.827957   0.172043  ]\n",
      " [0.84200863 0.15799137]\n",
      " [0.83795935 0.16204065]\n",
      " [0.83064526 0.16935474]\n",
      " [0.75840172 0.24159828]\n",
      " [0.8630697  0.1369303 ]\n",
      " [0.90317097 0.09682903]\n",
      " [0.84218803 0.15781197]\n",
      " [0.80762522 0.19237478]\n",
      " [0.74336532 0.25663468]\n",
      " [0.86581624 0.13418376]\n",
      " [0.8344172  0.1655828 ]\n",
      " [0.85904701 0.14095299]\n",
      " [0.66606944 0.33393056]\n",
      " [0.9003067  0.0996933 ]\n",
      " [0.89493425 0.10506575]\n",
      " [0.92314719 0.07685281]\n",
      " [0.8352348  0.1647652 ]\n",
      " [0.89172765 0.10827235]\n",
      " [0.91271563 0.08728437]\n",
      " [0.79285119 0.20714881]\n",
      " [0.69228407 0.30771593]\n",
      " [0.84212045 0.15787955]\n",
      " [0.75606754 0.24393246]\n",
      " [0.85341582 0.14658418]\n",
      " [0.99256561 0.00743439]\n",
      " [0.85536885 0.14463115]\n",
      " [0.88118522 0.11881478]\n",
      " [0.82924378 0.17075622]\n",
      " [0.94238678 0.05761322]\n",
      " [0.86910375 0.13089625]\n",
      " [0.8836921  0.1163079 ]\n",
      " [0.82783361 0.17216639]\n",
      " [0.86076539 0.13923461]\n",
      " [0.85973023 0.14026977]\n",
      " [0.88958178 0.11041822]\n",
      " [0.82194603 0.17805397]\n",
      " [0.7923778  0.2076222 ]\n",
      " [0.8765012  0.1234988 ]\n",
      " [0.63446043 0.36553957]\n",
      " [0.93786235 0.06213765]\n",
      " [0.89581765 0.10418235]\n",
      " [0.72740917 0.27259083]\n",
      " [0.67338659 0.32661341]\n",
      " [0.8714952  0.1285048 ]\n",
      " [0.86021689 0.13978311]\n",
      " [0.9742047  0.0257953 ]\n",
      " [0.85634727 0.14365273]\n",
      " [0.59050467 0.40949533]\n",
      " [0.89983039 0.10016961]\n",
      " [0.78272068 0.21727932]\n",
      " [0.86468529 0.13531471]\n",
      " [0.88561465 0.11438535]\n",
      " [0.87507105 0.12492895]\n",
      " [0.85182689 0.14817311]\n",
      " [0.77363775 0.22636225]\n",
      " [0.80601922 0.19398078]\n",
      " [0.84807284 0.15192716]\n",
      " [0.74772114 0.25227886]\n",
      " [0.74997222 0.25002778]\n",
      " [0.88682984 0.11317016]\n",
      " [0.52976079 0.47023921]\n",
      " [0.9234517  0.0765483 ]\n",
      " [0.79105787 0.20894213]\n",
      " [0.67058941 0.32941059]\n",
      " [0.91059103 0.08940897]\n",
      " [0.9356975  0.0643025 ]\n",
      " [0.879965   0.120035  ]\n",
      " [0.88490522 0.11509478]\n",
      " [0.95635904 0.04364096]\n",
      " [0.89938686 0.10061314]\n",
      " [0.94810695 0.05189305]\n",
      " [0.82804953 0.17195047]\n",
      " [0.87424204 0.12575796]\n",
      " [0.81518216 0.18481784]\n",
      " [0.81114283 0.18885717]\n",
      " [0.95047731 0.04952269]\n",
      " [0.86481404 0.13518596]\n",
      " [0.90146581 0.09853419]\n",
      " [0.83615779 0.16384221]\n",
      " [0.83556532 0.16443468]\n",
      " [0.78612354 0.21387646]\n",
      " [0.81159097 0.18840903]\n",
      " [0.81007066 0.18992934]\n",
      " [0.83220045 0.16779955]\n",
      " [0.91486689 0.08513311]\n",
      " [0.91355361 0.08644639]\n",
      " [0.67550415 0.32449585]\n",
      " [0.99039139 0.00960861]\n",
      " [0.80303929 0.19696071]\n",
      " [0.80038923 0.19961077]\n",
      " [0.73075291 0.26924709]\n",
      " [0.66612579 0.33387421]\n",
      " [0.79124986 0.20875014]\n",
      " [0.84558867 0.15441133]\n",
      " [0.8657347  0.1342653 ]\n",
      " [0.84007834 0.15992166]\n",
      " [0.84504321 0.15495679]\n",
      " [0.82341614 0.17658386]\n",
      " [0.92137597 0.07862403]\n",
      " [0.8260637  0.1739363 ]\n",
      " [0.97616958 0.02383042]\n",
      " [0.90385299 0.09614701]\n",
      " [0.92712229 0.07287771]\n",
      " [0.84362181 0.15637819]\n",
      " [0.76775369 0.23224631]\n",
      " [0.9492121  0.0507879 ]\n",
      " [0.94582365 0.05417635]\n",
      " [0.75429456 0.24570544]\n",
      " [0.87505724 0.12494276]\n",
      " [0.80639651 0.19360349]\n",
      " [0.93660585 0.06339415]\n",
      " [0.8560782  0.1439218 ]\n",
      " [0.73790133 0.26209867]\n",
      " [0.90507997 0.09492003]\n",
      " [0.75388397 0.24611603]\n",
      " [0.93813049 0.06186951]\n",
      " [0.91585582 0.08414418]\n",
      " [0.90689104 0.09310896]\n",
      " [0.77045893 0.22954107]\n",
      " [0.93949216 0.06050784]\n",
      " [0.80756278 0.19243722]\n",
      " [0.89759799 0.10240201]\n",
      " [0.87426999 0.12573001]\n",
      " [0.79419294 0.20580706]\n",
      " [0.81504734 0.18495266]\n",
      " [0.58820565 0.41179435]\n",
      " [0.94901045 0.05098955]\n",
      " [0.73430117 0.26569883]\n",
      " [0.89309981 0.10690019]\n",
      " [0.80226562 0.19773438]\n",
      " [0.87727477 0.12272523]\n",
      " [0.96566298 0.03433702]\n",
      " [0.81653235 0.18346765]\n",
      " [0.86090589 0.13909411]\n",
      " [0.65146079 0.34853921]\n",
      " [0.85824998 0.14175002]\n",
      " [0.9251974  0.0748026 ]\n",
      " [0.81788555 0.18211445]\n",
      " [0.92009159 0.07990841]\n",
      " [0.89032426 0.10967574]\n",
      " [0.70182751 0.29817249]\n",
      " [0.82132407 0.17867593]\n",
      " [0.96587263 0.03412737]\n",
      " [0.87074263 0.12925737]\n",
      " [0.89503031 0.10496969]\n",
      " [0.88279754 0.11720246]\n",
      " [0.80807973 0.19192027]\n",
      " [0.88537764 0.11462236]\n",
      " [0.83190869 0.16809131]\n",
      " [0.84065154 0.15934846]\n",
      " [0.82549171 0.17450829]\n",
      " [0.94061764 0.05938236]\n",
      " [0.83157333 0.16842667]\n",
      " [0.77445451 0.22554549]\n",
      " [0.69532734 0.30467266]\n",
      " [0.86025574 0.13974426]\n",
      " [0.80283711 0.19716289]\n",
      " [0.81427806 0.18572194]\n",
      " [0.86778733 0.13221267]\n",
      " [0.89454705 0.10545295]\n",
      " [0.82479704 0.17520296]\n",
      " [0.73071437 0.26928563]\n",
      " [0.94280798 0.05719202]\n",
      " [0.95810018 0.04189982]\n",
      " [0.89849153 0.10150847]\n",
      " [0.88643021 0.11356979]\n",
      " [0.84390453 0.15609547]\n",
      " [0.78472167 0.21527833]\n",
      " [0.71627571 0.28372429]\n",
      " [0.93171536 0.06828464]\n",
      " [0.65530706 0.34469294]\n",
      " [0.78074385 0.21925615]\n",
      " [0.93971926 0.06028074]\n",
      " [0.82168863 0.17831137]\n",
      " [0.92450492 0.07549508]\n",
      " [0.80911705 0.19088295]\n",
      " [0.88855075 0.11144925]\n",
      " [0.85264034 0.14735966]\n",
      " [0.63153196 0.36846804]\n",
      " [0.93120352 0.06879648]\n",
      " [0.90054308 0.09945692]]\n"
     ]
    }
   ],
   "source": [
    "probs = model2.predict_proba(X_test)\n",
    "print(probs)"
   ]
  },
  {
   "cell_type": "code",
   "execution_count": 40,
   "id": "20087122",
   "metadata": {},
   "outputs": [
    {
     "name": "stdout",
     "output_type": "stream",
     "text": [
      "0.8412698412698413\n",
      "0.6539853677319984\n"
     ]
    }
   ],
   "source": [
    "from sklearn import metrics\n",
    "\n",
    "print(metrics.accuracy_score(y_test, predicted))\n",
    "print(metrics.roc_auc_score(y_test, probs[:, 1]))"
   ]
  },
  {
   "cell_type": "code",
   "execution_count": 45,
   "id": "68443214",
   "metadata": {},
   "outputs": [
    {
     "name": "stdout",
     "output_type": "stream",
     "text": [
      "[[371   0]\n",
      " [ 70   0]]\n",
      "              precision    recall  f1-score   support\n",
      "\n",
      "         0.0       0.84      1.00      0.91       371\n",
      "         1.0       0.00      0.00      0.00        70\n",
      "\n",
      "    accuracy                           0.84       441\n",
      "   macro avg       0.42      0.50      0.46       441\n",
      "weighted avg       0.71      0.84      0.77       441\n",
      "\n"
     ]
    }
   ],
   "source": [
    "print(metrics.confusion_matrix(y_test, predicted))\n",
    "print(metrics.classification_report(y_test, predicted))"
   ]
  },
  {
   "cell_type": "markdown",
   "id": "6ab19f38",
   "metadata": {},
   "source": [
    "# Random Forest Classifier"
   ]
  },
  {
   "cell_type": "code",
   "execution_count": 48,
   "id": "343f52fa",
   "metadata": {},
   "outputs": [],
   "source": [
    "from sklearn.ensemble import RandomForestClassifier\n",
    "\n",
    "rfc = RandomForestClassifier(n_estimators=200)\n",
    "rfc.fit(X_train, y_train)\n",
    "pred_rfc = rfc.predict(X_test)"
   ]
  },
  {
   "cell_type": "code",
   "execution_count": 49,
   "id": "9b15d491",
   "metadata": {},
   "outputs": [
    {
     "name": "stdout",
     "output_type": "stream",
     "text": [
      "              precision    recall  f1-score   support\n",
      "\n",
      "         0.0       0.85      0.98      0.91       371\n",
      "         1.0       0.40      0.09      0.14        70\n",
      "\n",
      "    accuracy                           0.83       441\n",
      "   macro avg       0.62      0.53      0.52       441\n",
      "weighted avg       0.78      0.83      0.79       441\n",
      "\n",
      "[[362   9]\n",
      " [ 64   6]]\n"
     ]
    }
   ],
   "source": [
    "#let see how our model performed\n",
    "print(classification_report(y_test, pred_rfc))\n",
    "print(confusion_matrix(y_test, pred_rfc))"
   ]
  },
  {
   "cell_type": "code",
   "execution_count": 46,
   "id": "1b6cdaa9",
   "metadata": {},
   "outputs": [
    {
     "name": "stdout",
     "output_type": "stream",
     "text": [
      "      Intercept   Age  Department  DistanceFromHome  Education  \\\n",
      "338         1.0  30.0         2.0               5.0        3.0   \n",
      "363         1.0  33.0         2.0               5.0        3.0   \n",
      "759         1.0  45.0         3.0              24.0        4.0   \n",
      "793         1.0  28.0         1.0              15.0        2.0   \n",
      "581         1.0  30.0         1.0               1.0        3.0   \n",
      "...         ...   ...         ...               ...        ...   \n",
      "763         1.0  34.0         2.0              10.0        4.0   \n",
      "835         1.0  35.0         3.0               8.0        4.0   \n",
      "1216        1.0  43.0         2.0               2.0        3.0   \n",
      "559         1.0  38.0         1.0               2.0        5.0   \n",
      "684         1.0  40.0         2.0              10.0        4.0   \n",
      "\n",
      "      EducationField  YearsAtCompany  \n",
      "338              3.0            10.0  \n",
      "363              3.0             1.0  \n",
      "759              2.0             6.0  \n",
      "793              1.0             4.0  \n",
      "581              1.0             2.0  \n",
      "...              ...             ...  \n",
      "763              1.0             1.0  \n",
      "835              4.0             5.0  \n",
      "1216             2.0            10.0  \n",
      "559              2.0             1.0  \n",
      "684              3.0             1.0  \n",
      "\n",
      "[1029 rows x 7 columns]\n"
     ]
    }
   ],
   "source": [
    "print(X_train)"
   ]
  },
  {
   "cell_type": "code",
   "execution_count": 47,
   "id": "9521cfc7",
   "metadata": {},
   "outputs": [
    {
     "name": "stdout",
     "output_type": "stream",
     "text": [
      "[[1.84754098e-06 9.99998152e-01]]\n"
     ]
    }
   ],
   "source": [
    "#add random values to KK according to the parameters mentioned above to check the proabily of attrition of the employee\n",
    "kk=[[1.0, 23.0, 1.0, 500.0, 3.0, 24.0, 1.0]]\n",
    "print(model.predict_proba(kk))"
   ]
  },
  {
   "cell_type": "code",
   "execution_count": null,
   "id": "db62fb88",
   "metadata": {},
   "outputs": [],
   "source": []
  }
 ],
 "metadata": {
  "kernelspec": {
   "display_name": "Python 3 (ipykernel)",
   "language": "python",
   "name": "python3"
  },
  "language_info": {
   "codemirror_mode": {
    "name": "ipython",
    "version": 3
   },
   "file_extension": ".py",
   "mimetype": "text/x-python",
   "name": "python",
   "nbconvert_exporter": "python",
   "pygments_lexer": "ipython3",
   "version": "3.10.4"
  }
 },
 "nbformat": 4,
 "nbformat_minor": 5
}
